{
 "cells": [
  {
   "cell_type": "markdown",
   "metadata": {},
   "source": [
    "<h3>Produced By: Garrett Zimmerman</h3>\n",
    "<h3>Version 1: January 4th, 2024</h3>\n",
    "<h2>Goal:</h2> \n",
    "<p>Automate Youtube Upload process. I would like a python script that will grab a video file and upload it to my account. Make sure your code is optimized for performance. I would like to see a basic demo of the script upload youtube videos to your personal account. This is going to be very important for one of our products and our business operations. We will extend the framework to any social media platform</p>"
   ]
  },
  {
   "cell_type": "markdown",
   "metadata": {},
   "source": [
    "<h2>Action Plan:</h2>\n",
    "<ol>\n",
    "    <li>Grab a video/videos file from a folder</li>\n",
    "    <li>Upload the video file to youtube account</li>\n",
    "    <li>Optimize the process</li>\n",
    "</ol>"
   ]
  },
  {
   "cell_type": "markdown",
   "metadata": {},
   "source": [
    "<h1>Actions Items Needed to Complete before continuing:</h1>\n",
    "<dl>\n",
    "    <dt>1. Google Developer Console Account:</dt> \n",
    "        <dd>A:  You need a Google account to access the Google Developer Console. (COST $25 for life)</dd>\n",
    "    <dt>2. YouTube Data API Key: </dt>\n",
    "        <dd>You'll need to create a project in the Google Developer Console and enable the YouTube Data API for that project.</dd>\n",
    "        <dd>A:  Sign in to the Google Developer Console</dd>\n",
    "        <dd>B:  Go to the Google Developer Console and sign in with your Google account.</dd>\n",
    "        <dd>C:  Once you're logged in, create a new project by clicking on \"Select a project\" or \"New Project\" at the top of the page.</dd>\n",
    "        <dd>D:  Give your project a name and create it.</dd>\n",
    "        <dd>E:  Enable the YouTube Data API for Your Project</dd>\n",
    "        <dd>F:  With the project selected, navigate to the \"Library\" in the Google Developer Console.</dd>\n",
    "        <dd>G:  Search for \"YouTube Data API v3\" and select it.</dd>\n",
    "        <dd>H:  Click on \"Enable\" to add the YouTube Data API to your project. This step is crucial as it allows your application to interact with YouTube.</dd>\n",
    "    <dt>3. OAuth 2.0 Client ID: For uploading videos, you need to authenticate via OAuth 2.0. In the Google Developer Console, create OAuth 2.0 credentials.</dt>\n",
    "        <dd>A:  Configure the OAuth Consent Screen:</dd>\n",
    "        <dd>B:  In the Developer Console, go to the \"OAuth consent screen\" section.</dd>\n",
    "        <dd>C:  Select the user type (usually \"External\" for apps that are available to any user with a Google account).</dd>\n",
    "        <dd>D:  Fill in the required fields like the app name, user support email, and developer contact information. This information will be shown to users when they are asked to grant permissions to your app.</dd>\n",
    "        <dd>E:  Create OAuth 2.0 Credentials:</dd>\n",
    "        <dd>F:  Go to the \"Credentials\" tab in the Developer Console.</dd>\n",
    "        <dd>G:  Click on \"Create Credentials\" and choose \"OAuth client ID\".</dd>\n",
    "        <dd>H:  You might need to configure the consent screen before you can create credentials.</dd>\n",
    "        <dd>I:  Add authorized redirect URIs if needed (this is essential for web applications).</d>\n",
    "        <dd>J:  Obtain the Client ID and Client Secret:</dd>\n",
    "        <dd>K:  Once you create the OAuth client ID, you'll receive a client ID and client secret.</dd> \n",
    "        <dd>L:  These are important for your Python script to authenticate with Google's servers.</dd>\n",
    "        <dd>M:  Download the JSON Configuration File:</dd>\n",
    "        <dd>N:  You can download the configuration file that contains your client ID and client secret. This file is often named client_secrets.json.</dd>\n",
    "        <dd>O:  This file will be used in your Python script to facilitate OAuth 2.0 authentication</dd>\n",
    "</dl>"
   ]
  },
  {
   "cell_type": "code",
   "execution_count": null,
   "metadata": {},
   "outputs": [],
   "source": [
    "#All modules needed\n",
    "import os\n",
    "from typing import List\n",
    "import google_auth_oauthlib.flow\n",
    "import googleapiclient.discovery\n",
    "import googleapiclient.errors\n",
    "import googleapiclient.http\n",
    "import pandas as pd\n",
    "import pkg_resources\n",
    "\n"
   ]
  },
  {
   "cell_type": "markdown",
   "metadata": {},
   "source": [
    "<h2>The function find_video_files will take in a folder path and return a the list of videos in that file by looking for .mp4</h2>\n",
    "<p>Make sure and change the file location if need be</p>"
   ]
  },
  {
   "cell_type": "code",
   "execution_count": null,
   "metadata": {},
   "outputs": [],
   "source": [
    "def find_video_files(folder_path: str, file_extension: str = \".mp4\") -> List[str]:\n",
    "    \"\"\"\n",
    "    Finds video files in the specified folder with the given file extension.\n",
    "\n",
    "    :param folder_path: Path to the folder where video files are located.\n",
    "    :param file_extension: The extension of the video files to find.\n",
    "    :return: List of video file paths.\n",
    "    \"\"\"\n",
    "    try:\n",
    "        video_files = [os.path.join(folder_path, f) for f in os.listdir(folder_path) if f.endswith(file_extension)]\n",
    "        assert len(video_files) > 0, \"No video files found in the folder.\"\n",
    "        return video_files\n",
    "    except Exception as e:\n",
    "        print(f\"Error finding video files: {e}\")\n",
    "        return []\n"
   ]
  },
  {
   "cell_type": "markdown",
   "metadata": {},
   "source": [
    "<h1>Every Video Updated to Youtube will need to have this information:</h1>\n",
    "<ul>\n",
    "    <li>title </li> \n",
    "    <li>description</li> \n",
    "    <li>category </li> \n",
    "    <li>tags </li> \n",
    "    <li>privacy status </li> \n",
    "</ul>"
   ]
  },
  {
   "cell_type": "markdown",
   "metadata": {},
   "source": [
    "<h1>Two Categories require specified responses</h1>\n",
    "<h2>Privacy status:</h2>\n",
    "<dl>\n",
    "    <dt>'public'</dt> \n",
    "        <dd>The video can be viewed by anyone </dd>\n",
    "    <dt>'private'</dt> \n",
    "        <dd>The video can only be viewed by the uploader and the users specifically granted permission</dd>\n",
    "    <dt>'unlisted'</dt> \n",
    "        <dd>The video will not appear in any of YouTube's public spaces, but anyone with the link can view it</dd>\n",
    "</dl>\n",
    "<h2>Category</h2>\n",
    "<p>Category Must be choosen from a list of numbers representing the catergory. Run the cell below to see a table of avaliable categories.</p>  "
   ]
  },
  {
   "cell_type": "code",
   "execution_count": null,
   "metadata": {},
   "outputs": [],
   "source": [
    "# Data for YouTube category IDs\n",
    "category_data = {\n",
    "    \"Category ID\": [\n",
    "        \"1\", \"2\", \"10\", \"15\", \"17\", \"18\", \"19\", \"20\", \n",
    "        \"21\", \"22\", \"23\", \"24\", \"25\", \"26\", \"27\", \"28\", \"29\", \"30\"\n",
    "    ],\n",
    "    \"Category Name\": [\n",
    "        \"Film & Animation\", \"Autos & Vehicles\", \"Music\", \"Pets & Animals\",\n",
    "        \"Sports\", \"Short Movies\", \"Travel & Events\", \"Gaming\",\n",
    "        \"Videoblogging\", \"People & Blogs\", \"Comedy\", \"Entertainment\",\n",
    "        \"News & Politics\", \"Howto & Style\", \"Education\", \"Science & Technology\",\n",
    "        \"Nonprofits & Activism\", \"Movies\"\n",
    "    ]\n",
    "}\n",
    "\n",
    "# Create a DataFrame\n",
    "df = pd.DataFrame(category_data)\n",
    "\n",
    "# Display the DataFrame\n",
    "df"
   ]
  },
  {
   "cell_type": "code",
   "execution_count": null,
   "metadata": {},
   "outputs": [],
   "source": [
    "#This was the first function created. There are some speed improvements below:\n",
    "\n",
    "def upload_video(file_path):\n",
    "    # User inputs for video details\n",
    "    title = input(f\"Enter the title for the video '{os.path.basename(file_path)}': \")\n",
    "    description = input(\"Enter the description for the video: \")\n",
    "    category = input(\"Enter the category ID for the video (e.g., '22' for People & Blogs): \")\n",
    "    tags = input(\"Enter the tags for the video (comma-separated): \").split(',')\n",
    "    privacy_status = input(\"Enter the privacy status (public, private, or unlisted): \")\n",
    "\n",
    "    assert privacy_status in ['public', 'private', 'unlisted'], \"Invalid privacy status.\"\n",
    "\n",
    "    # OAuth 2.0 setup\n",
    "    os.environ[\"OAUTHLIB_INSECURE_TRANSPORT\"] = \"1\"  # Only for local testing!\n",
    "    client_secrets_file = \"client_secrets.json\"\n",
    "\n",
    "    scopes = [\"https://www.googleapis.com/auth/youtube.upload\"]\n",
    "    flow = google_auth_oauthlib.flow.InstalledAppFlow.from_client_secrets_file(\n",
    "        client_secrets_file, scopes=scopes)\n",
    "\n",
    "    # Using run_local_server\n",
    "    credentials = flow.run_local_server()\n",
    "\n",
    "    youtube = googleapiclient.discovery.build(\"youtube\", \"v3\", credentials=credentials)\n",
    "\n",
    "\n",
    "    request_body = {\n",
    "        \"snippet\": {\n",
    "            \"categoryId\": category,\n",
    "            \"title\": title,\n",
    "            \"description\": description,\n",
    "            \"tags\": tags\n",
    "        },\n",
    "        \"status\": {\n",
    "            \"privacyStatus\": privacy_status\n",
    "        }\n",
    "    }\n",
    "\n",
    "    media_file = googleapiclient.http.MediaFileUpload(file_path)\n",
    "\n",
    "    # Call the API to upload the video\n",
    "    request = youtube.videos().insert(\n",
    "        part=\"snippet,status\",\n",
    "        body=request_body,\n",
    "        media_body=media_file\n",
    "    )\n",
    "\n",
    "    response = request.execute()\n",
    "    print(f\"Upload successful for {file_path}.\")"
   ]
  },
  {
   "cell_type": "markdown",
   "metadata": {},
   "source": [
    "<h2>Uploading Videos From file:</h2>"
   ]
  },
  {
   "cell_type": "code",
   "execution_count": null,
   "metadata": {},
   "outputs": [],
   "source": [
    "\n",
    "#Enter the folder where the videos are\n",
    "folder_path = \"D:\\Test_videos\"  # Replace with your actual folder path\n",
    "video_files = find_video_files(folder_path)\n",
    "\n",
    "print(video_files)  # This will print the list of found video files\n",
    "for video_file in video_files:\n",
    "    upload_video(video_file)\n",
    "    print(\"Video Uploaded:\",video_file)"
   ]
  },
  {
   "cell_type": "markdown",
   "metadata": {},
   "source": [
    "<h2>Creating a requirements txt</h2>"
   ]
  },
  {
   "cell_type": "code",
   "execution_count": null,
   "metadata": {},
   "outputs": [],
   "source": [
    "packages = [\"google-auth-oauthlib\", \"google-api-python-client\", \"pandas\"]\n",
    "with open(\"requirements.txt\", \"w\") as f:\n",
    "    for package in packages:\n",
    "        version = pkg_resources.get_distribution(package).version\n",
    "        f.write(f\"{package}=={version}\\n\")"
   ]
  },
  {
   "cell_type": "markdown",
   "metadata": {},
   "source": [
    "<h2>Speed Improvements</h2>\n",
    "<h3>Separate OAuth Initialization from Upload Function</h3>\n",
    "<p> Initialize the OAuth flow and YouTube client once, outside the upload_video function. This prevents re-authenticating and rebuilding the client for each video upload, which is time-consuming and inefficient.</p>"
   ]
  },
  {
   "cell_type": "code",
   "execution_count": null,
   "metadata": {},
   "outputs": [],
   "source": [
    "def initialize_youtube_client():\n",
    "    try:\n",
    "        os.environ[\"OAUTHLIB_INSECURE_TRANSPORT\"] = \"1\"  # For local testing only!\n",
    "        client_secrets_file = \"client_secrets.json\"\n",
    "        scopes = [\"https://www.googleapis.com/auth/youtube.upload\"]\n",
    "        flow = google_auth_oauthlib.flow.InstalledAppFlow.from_client_secrets_file(\n",
    "            client_secrets_file, scopes=scopes)\n",
    "        credentials = flow.run_local_server()\n",
    "        return googleapiclient.discovery.build(\"youtube\", \"v3\", credentials=credentials)\n",
    "    except Exception as e:\n",
    "        print(f\"Error initializing YouTube client: {e}\")\n",
    "        return None"
   ]
  },
  {
   "cell_type": "code",
   "execution_count": null,
   "metadata": {},
   "outputs": [],
   "source": [
    "def upload_video(youtube, file_path, title, description, category, tags, privacy_status):\n",
    "    try:\n",
    "        request_body = {\n",
    "            \"snippet\": {\n",
    "                \"categoryId\": category,\n",
    "                \"title\": title,\n",
    "                \"description\": description,\n",
    "                \"tags\": tags\n",
    "            },\n",
    "            \"status\": {\n",
    "                \"privacyStatus\": privacy_status\n",
    "            }\n",
    "        }\n",
    "\n",
    "        media_file = googleapiclient.http.MediaFileUpload(file_path)\n",
    "\n",
    "        request = youtube.videos().insert(\n",
    "            part=\"snippet,status\",\n",
    "            body=request_body,\n",
    "            media_body=media_file\n",
    "        )\n",
    "\n",
    "        response = request.execute()\n",
    "        print(f\"Upload successful for {file_path}. Response:\", response)\n",
    "    except googleapiclient.errors.HttpError as e:\n",
    "        print(f\"An HTTP error occurred: {e.resp.status} {e.content}\")\n",
    "    except Exception as e:\n",
    "        print(f\"An error occurred during video upload: {e}\")"
   ]
  },
  {
   "cell_type": "code",
   "execution_count": null,
   "metadata": {},
   "outputs": [],
   "source": [
    "def main():\n",
    "    folder_path = \"D:\\\\Test_videos\"  # Use double backslashes for Windows paths\n",
    "    video_files = find_video_files(folder_path)\n",
    "\n",
    "    youtube = initialize_youtube_client()\n",
    "    if youtube is None:\n",
    "        return\n",
    "\n",
    "    for video_file in video_files:\n",
    "        title = input(f\"Enter the title for the video '{os.path.basename(video_file)}': \")\n",
    "        description = input(\"Enter the description for the video: \")\n",
    "        category = input(\"Enter the category ID for the video: \")\n",
    "        tags = input(\"Enter the tags for the video (comma-separated): \").split(',')\n",
    "        privacy_status = input(\"Enter the privacy status (public, private, or unlisted): \")\n",
    "\n",
    "        upload_video(youtube, video_file, title, description, category, tags, privacy_status)\n",
    "        print(\"Video Uploaded:\", video_file)\n",
    "\n",
    "if __name__ == \"__main__\":\n",
    "    main()"
   ]
  },
  {
   "cell_type": "markdown",
   "metadata": {},
   "source": [
    "<h2>Further Improvemnts and Considerations</h2>\n",
    "<dl>\n",
    "    <dt>User Input</dt> \n",
    "    <dd>Currently, the script still asks for input for each video. Depending on our use case, we might automate this or use a different approach to handle metadata.<dd>\n",
    "</dl>"
   ]
  }
 ],
 "metadata": {
  "kernelspec": {
   "display_name": "Python 3",
   "language": "python",
   "name": "python3"
  },
  "language_info": {
   "codemirror_mode": {
    "name": "ipython",
    "version": 3
   },
   "file_extension": ".py",
   "mimetype": "text/x-python",
   "name": "python",
   "nbconvert_exporter": "python",
   "pygments_lexer": "ipython3",
   "version": "3.11.8"
  }
 },
 "nbformat": 4,
 "nbformat_minor": 2
}
